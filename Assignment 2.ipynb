{
 "cells": [
  {
   "cell_type": "markdown",
   "id": "29e0a35c-10b3-45c8-b29a-dc04daee8e53",
   "metadata": {},
   "source": [
    "# Karmude Krishna Hanmant"
   ]
  },
  {
   "cell_type": "markdown",
   "id": "b58a41fb-8625-4451-8867-0fabf212f7b2",
   "metadata": {},
   "source": [
    "## 24030331245018"
   ]
  },
  {
   "cell_type": "raw",
   "id": "22620453-9725-4e69-9fa9-deb7e2381468",
   "metadata": {},
   "source": [
    "1 Store and display student information (name, age, grade)."
   ]
  },
  {
   "cell_type": "code",
   "execution_count": 1,
   "id": "dbc51817-b135-4b47-835a-e7fd5f776984",
   "metadata": {},
   "outputs": [
    {
     "name": "stdout",
     "output_type": "stream",
     "text": [
      "student name: Rushi\n",
      "student age: 19\n",
      "student grade: A grade\n"
     ]
    }
   ],
   "source": [
    "student=(\"Rushi\",19,\"A grade\")\n",
    "\n",
    "print(\"student name:\",student[0])\n",
    "print(\"student age:\",student[1])\n",
    "print(\"student grade:\",student[2])"
   ]
  },
  {
   "cell_type": "raw",
   "id": "46b5e8c8-433c-4e13-9b4d-3475815b0dba",
   "metadata": {},
   "source": [
    "2 List prices of grocery items and total them."
   ]
  },
  {
   "cell_type": "code",
   "execution_count": 2,
   "id": "83e551d5-cb06-4326-815d-1537fd05e28b",
   "metadata": {},
   "outputs": [
    {
     "name": "stdout",
     "output_type": "stream",
     "text": [
      "grocery list:\n",
      "apple: rupee100\n",
      "milk: rupee200\n",
      "soap: rupee300\n",
      "bottle: rupee400\n",
      "rice: rupee500\n",
      "\n",
      "Total cost: rupee 1500\n"
     ]
    }
   ],
   "source": [
    "groceries=(\n",
    "    (\"apple\",100),\n",
    "    (\"milk\",200),\n",
    "    (\"soap\",300),\n",
    "    (\"bottle\",400),\n",
    "    (\"rice\",500)\n",
    ")\n",
    "\n",
    "print(\"grocery list:\")\n",
    "total_cost=0\n",
    "for item in groceries:\n",
    "    print(f\"{item[0]}: rupee{item[1]}\")\n",
    "    total_cost+= item[1]\n",
    "\n",
    "print(\"\\nTotal cost: rupee\",total_cost)"
   ]
  },
  {
   "cell_type": "raw",
   "id": "f2214640-b21c-4de4-a004-1b4c2bcd5850",
   "metadata": {},
   "source": [
    "3 Pair items with prices using tuples.\n",
    "(\"Milk\", 25), (\"Eggs\", 50), (\"Bread\", 20)"
   ]
  },
  {
   "cell_type": "code",
   "execution_count": 3,
   "id": "a4fab80c-0aa4-404e-84c7-81265760e51b",
   "metadata": {},
   "outputs": [
    {
     "name": "stdout",
     "output_type": "stream",
     "text": [
      "Grocery Items and Prices:\n",
      "Milk: ₹25\n",
      "Eggs: ₹50\n",
      "Bread: ₹20\n"
     ]
    }
   ],
   "source": [
    "grocery_items = (\n",
    "    (\"Milk\", 25),\n",
    "    (\"Eggs\", 50),\n",
    "    (\"Bread\", 20)\n",
    ")\n",
    "\n",
    "print(\"Grocery Items and Prices:\")\n",
    "for item in grocery_items:\n",
    "    print(f\"{item[0]}: ₹{item[1]}\")"
   ]
  },
  {
   "cell_type": "raw",
   "id": "8971daea-83e2-4e9b-badb-0325bc1bcdcc",
   "metadata": {},
   "source": [
    "4 Store and display train schedule as tuples.\n",
    "(\"Rajdhani\",\"10:00\"), (\"Shatabdi\",\"12:30\"), (\"Duronto\",\"17:00\")"
   ]
  },
  {
   "cell_type": "code",
   "execution_count": 4,
   "id": "f8cb25a1-e3d3-4817-8ab2-3340a5314b7c",
   "metadata": {},
   "outputs": [
    {
     "name": "stdout",
     "output_type": "stream",
     "text": [
      "Train and its Time:\n",
      "Rajdhani=10:00\n",
      "Shatabdi=12:30\n",
      "Duronto=17:00\n"
     ]
    }
   ],
   "source": [
    "Schedule=(\n",
    "    (\"Rajdhani\",\"10:00\"),\n",
    "    (\"Shatabdi\",\"12:30\"),\n",
    "    (\"Duronto\",\"17:00\")\n",
    ")\n",
    "\n",
    "print(\"Train and its Time:\")\n",
    "for train in Schedule:\n",
    "    print(f\"{train[0]}={train[1]}\")"
   ]
  },
  {
   "cell_type": "raw",
   "id": "c9b17f19-e4cd-4bb2-9372-c8692f51f43e",
   "metadata": {},
   "source": [
    "5 Sort employee records by salary.\n",
    "(\"John\", 40000), (\"Alice\", 55000), (\"Raj\", 30000)"
   ]
  },
  {
   "cell_type": "code",
   "execution_count": 8,
   "id": "c95f065c-3cbe-4ac6-9efa-0ee450decbcd",
   "metadata": {},
   "outputs": [
    {
     "name": "stdout",
     "output_type": "stream",
     "text": [
      "Employee and thier records:\n",
      "John=40000\n",
      "Alice=55000\n",
      "Raj=30000\n"
     ]
    }
   ],
   "source": [
    "Employee_Records= (\n",
    "    (\"John\",40000),\n",
    "    (\"Alice\",55000),\n",
    "    (\"Raj\",30000)\n",
    ")\n",
    "\n",
    "print(\"Employee and thier records:\")\n",
    "for Employee in Employee_Records:\n",
    "    print(f\"{Employee[0]}={Employee[1]}\")"
   ]
  },
  {
   "cell_type": "raw",
   "id": "16d8a61d-012a-4b62-bc46-0e1a5b65eb4e",
   "metadata": {},
   "source": [
    "6 Count how many students scored above 75 marks.\n",
    "marks = (67, 88, 92, 74, 76, 55)"
   ]
  },
  {
   "cell_type": "code",
   "execution_count": 9,
   "id": "ba293d25-2c41-4ec4-96b7-ad0b6a289a88",
   "metadata": {},
   "outputs": [
    {
     "name": "stdout",
     "output_type": "stream",
     "text": [
      "The marks above 75 mark is:3\n"
     ]
    }
   ],
   "source": [
    "Marks=(67, 88, 92, 74, 76, 55)\n",
    "above_75_marks=sum(1 for mark in Marks if mark>75)\n",
    "print(f\"The marks above 75 mark is:{above_75_marks}\")"
   ]
  },
  {
   "cell_type": "raw",
   "id": "ece8b486-1a45-4fb2-8116-543b676c5ad4",
   "metadata": {},
   "source": [
    "7 Create a tuple of stock prices and find the max.\n",
    "Prices = (154.5, 160.2, 149.8, 170.1)"
   ]
  },
  {
   "cell_type": "code",
   "execution_count": 13,
   "id": "a2be0e95-bd29-4114-958a-a1b838161a15",
   "metadata": {},
   "outputs": [
    {
     "name": "stdout",
     "output_type": "stream",
     "text": [
      "The maximum price in Given Prices is:170.1\n"
     ]
    }
   ],
   "source": [
    "prices = (154.5, 160.2, 149.8, 170.1)\n",
    "max_price = max(prices)\n",
    "print(f\"The maximum price in Given Prices is:{max_price}\")"
   ]
  },
  {
   "cell_type": "raw",
   "id": "212c1cb7-18cb-4f64-bad0-700cd6df3324",
   "metadata": {},
   "source": [
    "8 Log temperature readings during the day. Find the average temperature\n",
    "temperatures = (29.5, 30.0, 32.2, 31.5, 28.9)"
   ]
  },
  {
   "cell_type": "code",
   "execution_count": 11,
   "id": "26081c88-9355-4a63-8e8f-5958ca98d0af",
   "metadata": {},
   "outputs": [
    {
     "name": "stdout",
     "output_type": "stream",
     "text": [
      "Average Temperature=30.42 c\n"
     ]
    }
   ],
   "source": [
    "temperatures = (29.5, 30.0, 32.2, 31.5, 28.9)\n",
    "Average_temp=sum(temperatures)/len(temperatures)\n",
    "print(f\"Average Temperature={Average_temp:.2f} c\")"
   ]
  },
  {
   "cell_type": "raw",
   "id": "0d04bb6f-1450-4f31-8396-ea383439bceb",
   "metadata": {},
   "source": [
    "9 Schedule appointments (name, time).\n",
    "appointments = (\"Doctor\", \"10:00 AM\"), (\"Meeting\",\"2:00 PM\")"
   ]
  },
  {
   "cell_type": "code",
   "execution_count": 12,
   "id": "de1d23e2-2aeb-47c3-8a97-46bcd8493861",
   "metadata": {},
   "outputs": [
    {
     "name": "stdout",
     "output_type": "stream",
     "text": [
      "Appointments:\n",
      "Doctor->10:00 AM\n",
      "Meeting->2:00 PM\n"
     ]
    }
   ],
   "source": [
    "appointments = (\n",
    "                (\"Doctor\", \"10:00 AM\"),\n",
    "                (\"Meeting\",\"2:00 PM\")\n",
    "               )\n",
    "print(\"Appointments:\")\n",
    "for appointment in appointments:\n",
    "    print(f\"{appointment[0]}->{appointment[1]}\")\n"
   ]
  },
  {
   "cell_type": "raw",
   "id": "72a6564f-6c6a-4f58-b438-a9aaa6202ec3",
   "metadata": {},
   "source": [
    "10 Store contact info (name, phone number).\n",
    "contacts = (\"Anil\",\"9876543210\"), (\"Priya\",\"9123456780\")"
   ]
  },
  {
   "cell_type": "code",
   "execution_count": 14,
   "id": "00aada23-c8db-4ffe-93bb-a5b7b7db010d",
   "metadata": {},
   "outputs": [
    {
     "name": "stdout",
     "output_type": "stream",
     "text": [
      "Contact List:\n",
      "Name:Anil, Phone number:9876543210\n",
      "Name:Priya, Phone number:9123456780\n"
     ]
    }
   ],
   "source": [
    "contacts = (\n",
    "    (\"Anil\",\"9876543210\"),\n",
    "    (\"Priya\",\"9123456780\")\n",
    ")\n",
    "print(\"Contact List:\")\n",
    "for contact in contacts:\n",
    "    print(f\"Name:{contact[0]}, Phone number:{contact[1]}\")"
   ]
  },
  {
   "cell_type": "raw",
   "id": "a923d737-a939-4ac7-a977-09d6c958380b",
   "metadata": {},
   "source": [
    "11 Display exam schedule with subject and time.\n",
    "exams = (\"Math\", \"9:00 AM\"), (\"Science\", \"11:30 AM\"), (\"English\", \"2:00 PM\")"
   ]
  },
  {
   "cell_type": "code",
   "execution_count": 15,
   "id": "f0389fa0-e402-46f2-8f9a-76c402fc4213",
   "metadata": {},
   "outputs": [
    {
     "name": "stdout",
     "output_type": "stream",
     "text": [
      "Exam Schedule:\n",
      "Subject=Math        Time=9:00 AM\n",
      "Subject=Science        Time=11:30 AM\n",
      "Subject=English        Time=2:00 PM\n"
     ]
    }
   ],
   "source": [
    "exams = (\n",
    "    (\"Math\",\"9:00 AM\"),\n",
    "    (\"Science\",\"11:30 AM\"),\n",
    "    (\"English\",\"2:00 PM\")\n",
    ")\n",
    "\n",
    "print(\"Exam Schedule:\")\n",
    "for tt in exams:\n",
    "    print(f\"Subject={tt[0]}        Time={tt[1]}\")"
   ]
  },
  {
   "cell_type": "code",
   "execution_count": null,
   "id": "bb2ffae4-84de-472d-8fa2-4cf004e53c72",
   "metadata": {},
   "outputs": [],
   "source": []
  }
 ],
 "metadata": {
  "kernelspec": {
   "display_name": "Python 3 (ipykernel)",
   "language": "python",
   "name": "python3"
  },
  "language_info": {
   "codemirror_mode": {
    "name": "ipython",
    "version": 3
   },
   "file_extension": ".py",
   "mimetype": "text/x-python",
   "name": "python",
   "nbconvert_exporter": "python",
   "pygments_lexer": "ipython3",
   "version": "3.12.7"
  }
 },
 "nbformat": 4,
 "nbformat_minor": 5
}
