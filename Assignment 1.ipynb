{
 "cells": [
  {
   "cell_type": "markdown",
   "id": "f25c0f53-d095-46a3-b654-cff0a285e0cb",
   "metadata": {},
   "source": [
    "# Karmude Krishna Hanmant"
   ]
  },
  {
   "cell_type": "markdown",
   "id": "7147dc23-4ac5-4545-8e81-a63d11f8f133",
   "metadata": {},
   "source": [
    "## 24030331245018"
   ]
  },
  {
   "cell_type": "raw",
   "id": "38e911d9-0482-48aa-a00d-ad397989c031",
   "metadata": {},
   "source": [
    "1. CHECK THE GIVEN NUMBER IS ODD OR EVEN"
   ]
  },
  {
   "cell_type": "code",
   "execution_count": 12,
   "id": "f6ee5cf5-92a3-4f2d-9f10-22f9eac76718",
   "metadata": {},
   "outputs": [
    {
     "name": "stdin",
     "output_type": "stream",
     "text": [
      "Enter the number: 3\n"
     ]
    },
    {
     "name": "stdout",
     "output_type": "stream",
     "text": [
      "the number 3 is odd.\n"
     ]
    }
   ],
   "source": [
    "def check_odd_or_even(number):\n",
    "    if number%2==0:\n",
    "        return \"even\"\n",
    "    elif number%2!=0:\n",
    "        return \"odd\"\n",
    "        \n",
    "        \n",
    "num=int(input(\"Enter the number:\"))\n",
    "print(f\"the number {num} is {check_odd_or_even(num)}.\")"
   ]
  },
  {
   "cell_type": "raw",
   "id": "c5e02149-cb4a-419f-9f21-04e8828a4a21",
   "metadata": {},
   "source": [
    "2. Count the total number of digits in a number"
   ]
  },
  {
   "cell_type": "code",
   "execution_count": 3,
   "id": "a62815a1-a429-4d65-80d0-84ed97ba444f",
   "metadata": {},
   "outputs": [
    {
     "name": "stdin",
     "output_type": "stream",
     "text": [
      "Enter a number:  2345\n"
     ]
    },
    {
     "name": "stdout",
     "output_type": "stream",
     "text": [
      "Total number of digits: 4\n"
     ]
    }
   ],
   "source": [
    "def count_digits(number):\n",
    "    number = abs(number) \n",
    "    return len(str(number))\n",
    "\n",
    "num = int(input(\"Enter a number: \"))\n",
    "digit_count = count_digits(num)\n",
    "print(f\"Total number of digits: {digit_count}\")"
   ]
  },
  {
   "cell_type": "raw",
   "id": "5bf3c187-e161-4053-9b93-bd672677cf9f",
   "metadata": {},
   "source": [
    "3. Write a Python program to print the reverse number pattern using a for loop"
   ]
  },
  {
   "cell_type": "code",
   "execution_count": 4,
   "id": "692efbd7-f928-4340-ad74-0847cb0629e6",
   "metadata": {},
   "outputs": [
    {
     "name": "stdin",
     "output_type": "stream",
     "text": [
      "Enter the number of rows:  5\n"
     ]
    },
    {
     "name": "stdout",
     "output_type": "stream",
     "text": [
      "1 2 3 4 5 \n",
      "1 2 3 4 \n",
      "1 2 3 \n",
      "1 2 \n",
      "1 \n"
     ]
    }
   ],
   "source": [
    "def reverse_number_pattern(rows):\n",
    "    for i in range(rows, 0, -1):\n",
    "        for j in range(1, i + 1):\n",
    "            print(j, end=\" \")\n",
    "        print()\n",
    "    \n",
    "\n",
    "# Get the number of rows from the user\n",
    "rows = int(input(\"Enter the number of rows: \"))\n",
    "\n",
    "# Call the function to print the pattern\n",
    "reverse_number_pattern(rows)"
   ]
  },
  {
   "cell_type": "raw",
   "id": "5b83ffbb-6cb9-4d7d-bd79-cfeba222ba27",
   "metadata": {},
   "source": [
    "4. Print all prime numbers within a range"
   ]
  },
  {
   "cell_type": "code",
   "execution_count": 5,
   "id": "f0e316eb-c5d7-4802-be9f-7ff937eef4fc",
   "metadata": {},
   "outputs": [
    {
     "name": "stdin",
     "output_type": "stream",
     "text": [
      "Enter the starting number of the range:  1\n",
      "Enter the ending number of the range:  30\n"
     ]
    },
    {
     "name": "stdout",
     "output_type": "stream",
     "text": [
      "Prime numbers in the range 1 to 30 are:\n",
      "2\n",
      "3\n",
      "5\n",
      "7\n",
      "11\n",
      "13\n",
      "17\n",
      "19\n",
      "23\n",
      "29\n"
     ]
    }
   ],
   "source": [
    "def is_prime(num):\n",
    "    if num <= 1:\n",
    "        return False\n",
    "    if num <= 3:\n",
    "        return True\n",
    "    if num % 2 == 0 or num % 3 == 0:\n",
    "        return False\n",
    "    i = 5\n",
    "    while i * i <= num:\n",
    "        if num % i == 0 or num % (i + 2) == 0:\n",
    "            return False\n",
    "        i += 6\n",
    "    return True\n",
    "\n",
    "def print_primes_in_range(start, end):\n",
    "    for num in range(start, end + 1):\n",
    "        if is_prime(num):\n",
    "            print(num)\n",
    "\n",
    "start_range = int(input(\"Enter the starting number of the range: \"))\n",
    "end_range = int(input(\"Enter the ending number of the range: \"))\n",
    "\n",
    "print(\"Prime numbers in the range\", start_range, \"to\", end_range, \"are:\")\n",
    "print_primes_in_range(start_range, end_range)"
   ]
  },
  {
   "cell_type": "raw",
   "id": "48d2af76-13ae-40ad-b929-9c3c3a77310f",
   "metadata": {},
   "source": [
    "5. Find the factorial of a given number"
   ]
  },
  {
   "cell_type": "code",
   "execution_count": 6,
   "id": "ff12024c-6019-4358-93ec-8d698daa0595",
   "metadata": {},
   "outputs": [
    {
     "name": "stdin",
     "output_type": "stream",
     "text": [
      "Enter a number:  1\n"
     ]
    },
    {
     "name": "stdout",
     "output_type": "stream",
     "text": [
      "The factorial of 1\n"
     ]
    }
   ],
   "source": [
    "def factorial(n):\n",
    "    if n < 0:\n",
    "        return \"Factorial is not defined for negative numbers\"\n",
    "    elif n == 0:\n",
    "        return 1\n",
    "    else:\n",
    "        fact = 1\n",
    "        for i in range(1, n + 1):\n",
    "            fact = fact * i\n",
    "        return fact\n",
    "\n",
    "number = int(input(\"Enter a number: \"))\n",
    "result = factorial(number)\n",
    "print(f\"The factorial of {factorial(number)}\")"
   ]
  },
  {
   "cell_type": "raw",
   "id": "64e47f89-e013-4d61-8ecf-8a9685abcb39",
   "metadata": {},
   "source": [
    "6. Program to check if number is palindrome"
   ]
  },
  {
   "cell_type": "code",
   "execution_count": 7,
   "id": "08a1d28d-7283-4a74-9423-996db9f1217b",
   "metadata": {},
   "outputs": [
    {
     "name": "stdin",
     "output_type": "stream",
     "text": [
      "Enter number:  5\n"
     ]
    },
    {
     "name": "stdout",
     "output_type": "stream",
     "text": [
      "The number is a palindrome!\n"
     ]
    }
   ],
   "source": [
    "def is_palindrome(n):\n",
    "    return str(n) == ''.join(reversed(str(n)))\n",
    " \n",
    "# Get the number from the user\n",
    "n = int(input(\"Enter number: \"))\n",
    " \n",
    "# Check if the number is a palindrome\n",
    "if is_palindrome(n):\n",
    "  print(\"The number is a palindrome!\")\n",
    "else:\n",
    "  print(\"The number is not a palindrome.\")"
   ]
  },
  {
   "cell_type": "raw",
   "id": "3aad7cc2-9128-40c0-88c4-c1fd8fab6968",
   "metadata": {},
   "source": [
    "7. Program to Check Armstrong Number"
   ]
  },
  {
   "cell_type": "markdown",
   "id": "bf65d818-6f83-4a9f-9518-779638425392",
   "metadata": {},
   "source": [
    "##### 153 is an Armstrong number because:\n",
    "1^3+5^3+3^3=1+125+27=153"
   ]
  },
  {
   "cell_type": "code",
   "execution_count": 8,
   "id": "33efb016-4ce1-46ab-8df8-9ed0de980367",
   "metadata": {},
   "outputs": [
    {
     "name": "stdin",
     "output_type": "stream",
     "text": [
      "Enter a number:  153\n"
     ]
    },
    {
     "name": "stdout",
     "output_type": "stream",
     "text": [
      "153 is an Armstrong number.\n"
     ]
    }
   ],
   "source": [
    "# Ask the user to enter a number\n",
    "num = int(input(\"Enter a number: \"))\n",
    "\n",
    "# Convert the number to a string to count the digits\n",
    "num_str = str(num)\n",
    "num_digits = len(num_str)\n",
    "\n",
    "# Initialize sum to 0\n",
    "sum_of_powers = 0\n",
    "\n",
    "# Loop through each digit in the number\n",
    "for digit in num_str:\n",
    "    sum_of_powers += int(digit) ** num_digits  # Raise to the power and add\n",
    "\n",
    "# Check if the sum of powers equals the original number\n",
    "if sum_of_powers == num:\n",
    "    print(f\"{num} is an Armstrong number.\")\n",
    "else:\n",
    "    print(f\"{num} is not an Armstrong number.\")\n"
   ]
  },
  {
   "cell_type": "raw",
   "id": "929dd920-2b52-4cb0-ad2d-66d9394b48ab",
   "metadata": {},
   "source": [
    "8. Find Maximum of three numbers"
   ]
  },
  {
   "cell_type": "code",
   "execution_count": 10,
   "id": "3a85704f-f4be-4cc9-ae63-97843154d4b7",
   "metadata": {},
   "outputs": [
    {
     "name": "stdin",
     "output_type": "stream",
     "text": [
      "Enter the first number:  7\n",
      "Enter the second number:  45\n",
      "Enter the third number:  33\n"
     ]
    },
    {
     "name": "stdout",
     "output_type": "stream",
     "text": [
      "The maximum number is: 45.0\n"
     ]
    }
   ],
   "source": [
    "# Ask the user to enter the first number\n",
    "num1 = float(input(\"Enter the first number: \"))\n",
    "\n",
    "# Ask the user to enter the second number\n",
    "num2 = float(input(\"Enter the second number: \"))\n",
    "\n",
    "# Ask the user to enter the third number\n",
    "num3 = float(input(\"Enter the third number: \"))\n",
    "\n",
    "# Compare the three numbers using if-elif-else\n",
    "if (num1 >= num2) and (num1 >= num3):\n",
    "    maximum = num1\n",
    "elif (num2 >= num1) and (num2 >= num3):\n",
    "    maximum = num2\n",
    "else:\n",
    "    maximum = num3\n",
    "\n",
    "# Print the maximum number\n",
    "print(\"The maximum number is:\", maximum)\n"
   ]
  },
  {
   "cell_type": "raw",
   "id": "853d8dc0-c13c-40f3-bcb5-2e7650e3bb81",
   "metadata": {},
   "source": [
    "9. Find the Sum of digits"
   ]
  },
  {
   "cell_type": "code",
   "execution_count": 11,
   "id": "a811a981-098e-4b5d-8c7f-4d4e0af0ab4b",
   "metadata": {},
   "outputs": [
    {
     "name": "stdin",
     "output_type": "stream",
     "text": [
      "Enter a number:  4444\n"
     ]
    },
    {
     "name": "stdout",
     "output_type": "stream",
     "text": [
      "Sum of digits is: 16\n"
     ]
    }
   ],
   "source": [
    "# Ask the user to enter a number\n",
    "num = int(input(\"Enter a number: \"))\n",
    "\n",
    "# Make sure the number is positive\n",
    "num = abs(num)\n",
    "\n",
    "# Initialize a variable to store the sum of digits\n",
    "sum_of_digits = 0\n",
    "\n",
    "# Loop until the number becomes 0\n",
    "while num > 0:\n",
    "    digit = num % 10           # Get the last digit\n",
    "    sum_of_digits += digit     # Add the digit to the sum\n",
    "    num = num // 10            # Remove the last digit\n",
    "\n",
    "# Print the result\n",
    "print(\"Sum of digits is:\", sum_of_digits)\n"
   ]
  },
  {
   "cell_type": "raw",
   "id": "535fdac9-178f-412d-a128-386846db6573",
   "metadata": {},
   "source": [
    "10. Python Program to Print the Natural Numbers Summation Pattern\n",
    "Given a natural number n, the task is to write a Python program to first find the sum of first n\n",
    "natural numbers and then print each step as a pattern."
   ]
  },
  {
   "cell_type": "code",
   "execution_count": 12,
   "id": "40c5badf-feda-4b9e-af40-089ea37c7ed9",
   "metadata": {},
   "outputs": [
    {
     "name": "stdin",
     "output_type": "stream",
     "text": [
      "Enter a natural number:  10\n"
     ]
    },
    {
     "name": "stdout",
     "output_type": "stream",
     "text": [
      "1 = 1\n",
      "1 + 2 = 3\n",
      "1 + 2 + 3 = 6\n",
      "1 + 2 + 3 + 4 = 10\n",
      "1 + 2 + 3 + 4 + 5 = 15\n",
      "1 + 2 + 3 + 4 + 5 + 6 = 21\n",
      "1 + 2 + 3 + 4 + 5 + 6 + 7 = 28\n",
      "1 + 2 + 3 + 4 + 5 + 6 + 7 + 8 = 36\n",
      "1 + 2 + 3 + 4 + 5 + 6 + 7 + 8 + 9 = 45\n",
      "1 + 2 + 3 + 4 + 5 + 6 + 7 + 8 + 9 + 10 = 55\n"
     ]
    }
   ],
   "source": [
    "# Ask the user to enter a natural number\n",
    "n = int(input(\"Enter a natural number: \"))\n",
    "\n",
    "# Initialize the sum variable\n",
    "total_sum = 0\n",
    "\n",
    "# Loop from 1 to n\n",
    "for i in range(1, n + 1):\n",
    "    total_sum += i  # Add current number to total sum\n",
    "    \n",
    "    # Create the pattern string \"1 + 2 + ... + i\"\n",
    "    pattern = \" + \".join(str(x) for x in range(1, i + 1))\n",
    "    \n",
    "    # Print the pattern along with the current sum\n",
    "    print(f\"{pattern} = {total_sum}\")"
   ]
  }
 ],
 "metadata": {
  "kernelspec": {
   "display_name": "Python 3 (ipykernel)",
   "language": "python",
   "name": "python3"
  },
  "language_info": {
   "codemirror_mode": {
    "name": "ipython",
    "version": 3
   },
   "file_extension": ".py",
   "mimetype": "text/x-python",
   "name": "python",
   "nbconvert_exporter": "python",
   "pygments_lexer": "ipython3",
   "version": "3.12.7"
  }
 },
 "nbformat": 4,
 "nbformat_minor": 5
}
