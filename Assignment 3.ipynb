{
 "cells": [
  {
   "cell_type": "markdown",
   "id": "c3eb509b-737e-4bce-86e4-c85ef1343176",
   "metadata": {},
   "source": [
    "# Karmude Krishna Hanmant"
   ]
  },
  {
   "cell_type": "markdown",
   "id": "48ed30e2-1a83-4701-82f2-c95e15790c02",
   "metadata": {},
   "source": [
    "## 240304331245018"
   ]
  },
  {
   "cell_type": "markdown",
   "id": "857de025-0c9f-402d-aec9-8f67186b210b",
   "metadata": {},
   "source": [
    "#### 1) Create a set and display its elements"
   ]
  },
  {
   "cell_type": "code",
   "execution_count": 1,
   "id": "46f289dc-4c87-4489-8910-c36e03b8f7c1",
   "metadata": {},
   "outputs": [
    {
     "name": "stdout",
     "output_type": "stream",
     "text": [
      "Elements of the set:\n",
      "1\n",
      "2\n",
      "3\n",
      "4\n",
      "5\n"
     ]
    }
   ],
   "source": [
    "my_set = {1, 2, 3, 4, 5}\n",
    "print(\"Elements of the set:\")\n",
    "for element in my_set:\n",
    "    print(element)"
   ]
  },
  {
   "cell_type": "markdown",
   "id": "734723cd-57a6-4962-b78d-73cebad18b13",
   "metadata": {},
   "source": [
    "#### 2) Add an element to a set"
   ]
  },
  {
   "cell_type": "code",
   "execution_count": 4,
   "id": "2610cbd5-8065-4266-9427-bf7a764bb46c",
   "metadata": {},
   "outputs": [
    {
     "name": "stdout",
     "output_type": "stream",
     "text": [
      "{'apple', 'orange', 'cherry', 'banana'}\n"
     ]
    }
   ],
   "source": [
    "my_set = {\"apple\", \"banana\", \"cherry\"}\n",
    "my_set.add(\"orange\")\n",
    "print(my_set)  "
   ]
  },
  {
   "cell_type": "markdown",
   "id": "184a9b81-bad8-422c-b264-dbf50866d4d1",
   "metadata": {},
   "source": [
    "#### 3) Remove an element from a set"
   ]
  },
  {
   "cell_type": "code",
   "execution_count": 6,
   "id": "c42962fa-e3f7-489f-ac35-822429e184cb",
   "metadata": {},
   "outputs": [
    {
     "name": "stdout",
     "output_type": "stream",
     "text": [
      "{'apple', 'cherry'}\n"
     ]
    }
   ],
   "source": [
    "fruits = {\"apple\", \"banana\", \"cherry\"}\n",
    "fruits.remove(\"banana\") \n",
    "print(fruits)"
   ]
  },
  {
   "cell_type": "markdown",
   "id": "bea7a5c6-6b0d-4274-9d84-bede946071cd",
   "metadata": {},
   "source": [
    "#### 4) Clear all elements from a set"
   ]
  },
  {
   "cell_type": "code",
   "execution_count": 11,
   "id": "27fdec37-957c-430f-be75-d1170980b22a",
   "metadata": {},
   "outputs": [
    {
     "name": "stdout",
     "output_type": "stream",
     "text": [
      "set()\n"
     ]
    }
   ],
   "source": [
    "my_set = {1, 2, 3, 4}\n",
    "my_set.clear()\n",
    "print( my_set)"
   ]
  },
  {
   "cell_type": "markdown",
   "id": "f27bd89a-95ae-42bb-b0d9-3d12f56d6f62",
   "metadata": {},
   "source": [
    "#### 5) Copy a set to another set"
   ]
  },
  {
   "cell_type": "code",
   "execution_count": 12,
   "id": "255d6be8-fb4c-478f-92f3-8d7a4725b1d3",
   "metadata": {},
   "outputs": [
    {
     "name": "stdout",
     "output_type": "stream",
     "text": [
      "{1, 2, 3}\n"
     ]
    }
   ],
   "source": [
    "original = {1, 2, 3}\n",
    "duplicate = original.copy()\n",
    "print(duplicate)"
   ]
  },
  {
   "cell_type": "markdown",
   "id": "49fb1425-62c8-488e-b9a7-68acc378c91a",
   "metadata": {},
   "source": [
    "#### 6) Check if an element exists in a set"
   ]
  },
  {
   "cell_type": "code",
   "execution_count": 15,
   "id": "a36f9e67-8e1a-4137-9fe6-c8cee8586e31",
   "metadata": {},
   "outputs": [
    {
     "name": "stdout",
     "output_type": "stream",
     "text": [
      "'banana' is in the set.\n"
     ]
    }
   ],
   "source": [
    "my_set = {\"apple\", \"banana\", \"cherry\"}\n",
    "\n",
    "if \"banana\" in my_set:\n",
    "    print(\"'banana' is in the set.\")\n",
    "else:\n",
    "    print(\"Not found.\")"
   ]
  },
  {
   "cell_type": "markdown",
   "id": "97f1afce-a1dd-40c9-85b1-574ccdaea03c",
   "metadata": {},
   "source": [
    "#### 7) Find the length of a set"
   ]
  },
  {
   "cell_type": "code",
   "execution_count": 2,
   "id": "a6bd7e66-2d0a-47d3-9f95-237e3e247a18",
   "metadata": {},
   "outputs": [
    {
     "name": "stdout",
     "output_type": "stream",
     "text": [
      "3\n"
     ]
    }
   ],
   "source": [
    "my_set = {\"apple\", \"banana\", \"cherry\"}\n",
    "print(len(my_set))"
   ]
  },
  {
   "cell_type": "markdown",
   "id": "16784db0-35f1-493f-9b0e-78e065252a98",
   "metadata": {},
   "source": [
    "#### 8) Iterate through a set using a loop"
   ]
  },
  {
   "cell_type": "code",
   "execution_count": 3,
   "id": "1313dace-6b0a-4bb9-95c8-7c76ca4d0d8e",
   "metadata": {},
   "outputs": [
    {
     "name": "stdout",
     "output_type": "stream",
     "text": [
      "apple\n",
      "banana\n",
      "cherry\n"
     ]
    }
   ],
   "source": [
    "my_set = {\"apple\", \"banana\", \"cherry\"}\n",
    "iterator = iter(my_set)\n",
    "for element in iterator:\n",
    "    print(element)"
   ]
  },
  {
   "cell_type": "markdown",
   "id": "d1684534-fb8b-4f57-b35e-38a6fa711a28",
   "metadata": {},
   "source": [
    "##  Set Operations"
   ]
  },
  {
   "cell_type": "markdown",
   "id": "95f03bc2-e85d-4df0-8d55-9ae26194b87e",
   "metadata": {},
   "source": [
    "#### 9) Find the union of two sets"
   ]
  },
  {
   "cell_type": "code",
   "execution_count": 2,
   "id": "bee2bb8f-e240-4920-9c12-4def8bcbeae7",
   "metadata": {},
   "outputs": [
    {
     "name": "stdout",
     "output_type": "stream",
     "text": [
      "Union of two sets: {1, 2, 3, 4, 5}\n"
     ]
    }
   ],
   "source": [
    "set1 = {1, 2, 3}\n",
    "set2 = {3, 4, 5}\n",
    "\n",
    "union_set = set1.union(set2)\n",
    "print(\"Union of two sets:\", union_set)"
   ]
  },
  {
   "cell_type": "markdown",
   "id": "218ddde9-e824-410a-afd8-80432867a5c9",
   "metadata": {},
   "source": [
    "#### 10) Find the intersection of two sets"
   ]
  },
  {
   "cell_type": "code",
   "execution_count": 4,
   "id": "96e0925f-36f5-4f35-b42b-15be85151ade",
   "metadata": {},
   "outputs": [
    {
     "name": "stdout",
     "output_type": "stream",
     "text": [
      "Intersection of two sets: {2, 3}\n"
     ]
    }
   ],
   "source": [
    "set1 = {1, 2, 3}\n",
    "set2 = {2, 3, 4}\n",
    "\n",
    "intersection_set = set1.intersection(set2)\n",
    "print(\"Intersection of two sets:\", intersection_set)\n"
   ]
  },
  {
   "cell_type": "markdown",
   "id": "51f29544-c040-42e8-9847-d948fb416f82",
   "metadata": {},
   "source": [
    "#### 11) Find the difference between two sets"
   ]
  },
  {
   "cell_type": "code",
   "execution_count": 6,
   "id": "87ea0979-5973-42c8-87f9-30c30fa7c110",
   "metadata": {},
   "outputs": [
    {
     "name": "stdout",
     "output_type": "stream",
     "text": [
      "Difference between two sets: {1, 2}\n"
     ]
    }
   ],
   "source": [
    "set1 = {1, 2, 3, 4}\n",
    "set2 = {3, 4, 5, 6}\n",
    "\n",
    "difference_set = set1.difference(set2)\n",
    "print(\"Difference between two sets:\", difference_set)"
   ]
  },
  {
   "cell_type": "markdown",
   "id": "2507e422-144a-4de4-a822-8dbf596b4389",
   "metadata": {},
   "source": [
    "#### 12) Find the symmetric difference between two sets"
   ]
  },
  {
   "cell_type": "markdown",
   "id": "d1ef4cc7-8d1f-4be7-834b-52c84348acc4",
   "metadata": {},
   "source": [
    "set1 = {1, 2, 3, 4}\n",
    "set2 = {3, 4, 5, 6}\n",
    "sym_diff = set1.symmetric_difference(set2)\n",
    "print(\"Symmetric Difference:\", sym_diff)"
   ]
  },
  {
   "cell_type": "markdown",
   "id": "08e4dbbe-75d7-415c-8418-11674e264ea7",
   "metadata": {},
   "source": [
    "#### 13) Check if one set is a subset of another"
   ]
  },
  {
   "cell_type": "code",
   "execution_count": 16,
   "id": "db4be273-8f1d-4d21-b303-57451f9056d1",
   "metadata": {},
   "outputs": [
    {
     "name": "stdout",
     "output_type": "stream",
     "text": [
      "A is a subset of B\n"
     ]
    }
   ],
   "source": [
    "A = {1, 2, 3}\n",
    "B = {1, 2, 3, 4, 5}\n",
    "if A.issubset(B):\n",
    "    print(\"A is a subset of B\")\n",
    "elif B.issubset(A):\n",
    "    print(\"B is a subset of A \")\n",
    "else:\n",
    "    print(\"A is not a subset of B and also B is not a subset of A\")"
   ]
  },
  {
   "cell_type": "markdown",
   "id": "ca5f96c7-ed77-4f35-8688-de67798ac64d",
   "metadata": {},
   "source": [
    "#### 14) Check if one set is a superset of another"
   ]
  },
  {
   "cell_type": "code",
   "execution_count": 20,
   "id": "0c2c672f-b89d-48cd-8aaa-037e8e1202d9",
   "metadata": {},
   "outputs": [
    {
     "name": "stdout",
     "output_type": "stream",
     "text": [
      "A is a superset of B\n"
     ]
    }
   ],
   "source": [
    "A = {1, 2, 3, 4, 5}\n",
    "B = {1, 2, 3}\n",
    "if A.issuperset(B):\n",
    "    print(\"A is a superset of B\")\n",
    "elif B.issuperset(A):\n",
    "    print(\"B is a superset of A \")\n",
    "else:\n",
    "    print(\"A is not a superset of B and also B is not a superset of A\")"
   ]
  },
  {
   "cell_type": "markdown",
   "id": "2233072f-331d-4409-999c-c8eca03f42d3",
   "metadata": {},
   "source": [
    "#### 15) Check if two sets are disjoint"
   ]
  },
  {
   "cell_type": "code",
   "execution_count": 21,
   "id": "54628c3d-d24d-493d-a080-6017d19d45be",
   "metadata": {},
   "outputs": [
    {
     "name": "stdout",
     "output_type": "stream",
     "text": [
      "A and B are disjoint sets\n"
     ]
    }
   ],
   "source": [
    "A = {1, 2, 3}\n",
    "B = {4, 5, 6}\n",
    "if A.isdisjoint(B):\n",
    "    print(\"A and B are disjoint sets\")\n",
    "else:\n",
    "    print(\"A and B are not disjoint sets\")"
   ]
  },
  {
   "cell_type": "markdown",
   "id": "850b2052-5032-4cc8-8636-35e88b053968",
   "metadata": {},
   "source": [
    "## Set Applications"
   ]
  },
  {
   "cell_type": "markdown",
   "id": "83f20f01-2d52-477d-95ce-dd67ebeb50b2",
   "metadata": {},
   "source": [
    "#### 16) Remove duplicates from a list using a set"
   ]
  },
  {
   "cell_type": "code",
   "execution_count": 22,
   "id": "bdb5cb5f-1636-4c69-bf0a-1518806a9125",
   "metadata": {},
   "outputs": [
    {
     "name": "stdout",
     "output_type": "stream",
     "text": [
      "Original list: [1, 2, 2, 3, 4, 4, 5]\n",
      "List after removing duplicates: [1, 2, 3, 4, 5]\n"
     ]
    }
   ],
   "source": [
    "my_list = [1, 2, 2, 3, 4, 4, 5]\n",
    "unique_set = set(my_list)\n",
    "unique_list = list(unique_set)\n",
    "print(\"Original list:\", my_list)\n",
    "print(\"List after removing duplicates:\", unique_list)"
   ]
  },
  {
   "cell_type": "markdown",
   "id": "5cd981c2-c47c-477b-952a-66df13757204",
   "metadata": {},
   "source": [
    "#### 17) Convert a list to a set and back to a list"
   ]
  },
  {
   "cell_type": "code",
   "execution_count": 23,
   "id": "a531fe5f-266f-4590-8d60-ad84e578b214",
   "metadata": {},
   "outputs": [
    {
     "name": "stdout",
     "output_type": "stream",
     "text": [
      "Original list: [1, 2, 2, 3, 4, 4, 5]\n",
      "After converting to set and back to list: [1, 2, 3, 4, 5]\n"
     ]
    }
   ],
   "source": [
    "my_list = [1, 2, 2, 3, 4, 4, 5]\n",
    "my_set = set(my_list)\n",
    "new_list = list(my_set)\n",
    "print(\"Original list:\", my_list)\n",
    "print(\"After converting to set and back to list:\", new_list)"
   ]
  },
  {
   "cell_type": "markdown",
   "id": "14cd770f-a7dc-42c3-b300-c5fa98a6b1d5",
   "metadata": {},
   "source": [
    "#### 18) Find common elements in two lists using sets"
   ]
  },
  {
   "cell_type": "code",
   "execution_count": 24,
   "id": "122c889f-be36-4b29-903a-ca332501a385",
   "metadata": {},
   "outputs": [
    {
     "name": "stdout",
     "output_type": "stream",
     "text": [
      "Common elements: [4, 5]\n"
     ]
    }
   ],
   "source": [
    "list1 = [1, 2, 3, 4, 5]\n",
    "list2 = [4, 5, 6, 7, 8]\n",
    "set1 = set(list1)\n",
    "set2 = set(list2)\n",
    "common_elements = set1.intersection(set2)\n",
    "common_list = list(common_elements)\n",
    "print(\"Common elements:\", common_list)"
   ]
  },
  {
   "cell_type": "markdown",
   "id": "0bec4747-8c87-41ba-b779-a21a540ba0e5",
   "metadata": {},
   "source": [
    "#### 19) Get elements in one list but not in another using sets"
   ]
  },
  {
   "cell_type": "code",
   "execution_count": 25,
   "id": "ee61aeb5-de5c-46d8-bee5-e80fa54d1abb",
   "metadata": {},
   "outputs": [
    {
     "name": "stdout",
     "output_type": "stream",
     "text": [
      "Elements in list1 but not in list2: [1, 2, 3]\n"
     ]
    }
   ],
   "source": [
    "list1 = [1, 2, 3, 4, 5]\n",
    "list2 = [4, 5, 6, 7]\n",
    "set1 = set(list1)\n",
    "set2 = set(list2)\n",
    "difference = set1.difference(set2)\n",
    "result = list(difference)\n",
    "print(\"Elements in list1 but not in list2:\", result)"
   ]
  },
  {
   "cell_type": "markdown",
   "id": "a2a56713-03ce-4415-948d-09ad639f4c7c",
   "metadata": {},
   "source": [
    "#### 20) Use set comprehension to generate a set (e.g., squares or primes)"
   ]
  },
  {
   "cell_type": "code",
   "execution_count": 26,
   "id": "8432753c-1283-40e8-a646-9883ef3273eb",
   "metadata": {},
   "outputs": [
    {
     "name": "stdout",
     "output_type": "stream",
     "text": [
      "Squares from 1 to 10: {64, 1, 4, 36, 100, 9, 16, 49, 81, 25}\n"
     ]
    }
   ],
   "source": [
    "squares = {x**2 for x in range(1, 11)}\n",
    "print(\"Squares from 1 to 10:\", squares)"
   ]
  },
  {
   "cell_type": "markdown",
   "id": "d2e70e02-a191-4da5-b04a-cbba7c60bacf",
   "metadata": {},
   "source": [
    "## Frozen Set Programs"
   ]
  },
  {
   "cell_type": "markdown",
   "id": "76f474d0-f8a6-4987-90ee-8e9d25da3039",
   "metadata": {},
   "source": [
    "#### 21) Create and print a frozenset"
   ]
  },
  {
   "cell_type": "code",
   "execution_count": 27,
   "id": "8615d24d-6732-413d-898a-27150bdb9eb7",
   "metadata": {},
   "outputs": [
    {
     "name": "stdout",
     "output_type": "stream",
     "text": [
      "Frozenset: frozenset({1, 2, 3, 4, 5})\n"
     ]
    }
   ],
   "source": [
    "fset = frozenset([1, 2, 3, 4, 5])\n",
    "print(\"Frozenset:\", fset)"
   ]
  }
 ],
 "metadata": {
  "kernelspec": {
   "display_name": "Python 3 (ipykernel)",
   "language": "python",
   "name": "python3"
  },
  "language_info": {
   "codemirror_mode": {
    "name": "ipython",
    "version": 3
   },
   "file_extension": ".py",
   "mimetype": "text/x-python",
   "name": "python",
   "nbconvert_exporter": "python",
   "pygments_lexer": "ipython3",
   "version": "3.12.7"
  }
 },
 "nbformat": 4,
 "nbformat_minor": 5
}
